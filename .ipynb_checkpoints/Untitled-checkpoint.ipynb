{
 "cells": [
  {
   "cell_type": "code",
   "execution_count": 1,
   "metadata": {},
   "outputs": [],
   "source": [
    "import numpy as np\n",
    "\n",
    "import sqlalchemy\n",
    "from sqlalchemy.ext.automap import automap_base\n",
    "from sqlalchemy.orm import Session\n",
    "from sqlalchemy import create_engine, func, inspect\n",
    "\n",
    "from flask import Flask, jsonify\n",
    "import datetime as dt"
   ]
  },
  {
   "cell_type": "code",
   "execution_count": 2,
   "metadata": {},
   "outputs": [],
   "source": [
    "engine = create_engine(\"sqlite:///Resources/hawaii.sqlite\", connect_args={'check_same_thread': False}, echo=True)"
   ]
  },
  {
   "cell_type": "code",
   "execution_count": 3,
   "metadata": {},
   "outputs": [],
   "source": [
    "Base = automap_base()"
   ]
  },
  {
   "cell_type": "code",
   "execution_count": 4,
   "metadata": {},
   "outputs": [
    {
     "name": "stdout",
     "output_type": "stream",
     "text": [
      "2018-11-28 18:58:00,960 INFO sqlalchemy.engine.base.Engine SELECT CAST('test plain returns' AS VARCHAR(60)) AS anon_1\n",
      "2018-11-28 18:58:00,963 INFO sqlalchemy.engine.base.Engine ()\n",
      "2018-11-28 18:58:00,965 INFO sqlalchemy.engine.base.Engine SELECT CAST('test unicode returns' AS VARCHAR(60)) AS anon_1\n",
      "2018-11-28 18:58:00,966 INFO sqlalchemy.engine.base.Engine ()\n",
      "2018-11-28 18:58:00,969 INFO sqlalchemy.engine.base.Engine SELECT name FROM sqlite_master WHERE type='table' ORDER BY name\n",
      "2018-11-28 18:58:00,970 INFO sqlalchemy.engine.base.Engine ()\n",
      "2018-11-28 18:58:00,973 INFO sqlalchemy.engine.base.Engine PRAGMA table_info(\"measurement\")\n",
      "2018-11-28 18:58:00,975 INFO sqlalchemy.engine.base.Engine ()\n",
      "2018-11-28 18:58:00,979 INFO sqlalchemy.engine.base.Engine SELECT sql FROM  (SELECT * FROM sqlite_master UNION ALL   SELECT * FROM sqlite_temp_master) WHERE name = 'measurement' AND type = 'table'\n",
      "2018-11-28 18:58:00,980 INFO sqlalchemy.engine.base.Engine ()\n",
      "2018-11-28 18:58:00,982 INFO sqlalchemy.engine.base.Engine PRAGMA foreign_key_list(\"measurement\")\n",
      "2018-11-28 18:58:00,983 INFO sqlalchemy.engine.base.Engine ()\n",
      "2018-11-28 18:58:00,984 INFO sqlalchemy.engine.base.Engine SELECT sql FROM  (SELECT * FROM sqlite_master UNION ALL   SELECT * FROM sqlite_temp_master) WHERE name = 'measurement' AND type = 'table'\n",
      "2018-11-28 18:58:00,985 INFO sqlalchemy.engine.base.Engine ()\n",
      "2018-11-28 18:58:00,990 INFO sqlalchemy.engine.base.Engine PRAGMA index_list(\"measurement\")\n",
      "2018-11-28 18:58:00,991 INFO sqlalchemy.engine.base.Engine ()\n",
      "2018-11-28 18:58:00,992 INFO sqlalchemy.engine.base.Engine PRAGMA index_list(\"measurement\")\n",
      "2018-11-28 18:58:00,993 INFO sqlalchemy.engine.base.Engine ()\n",
      "2018-11-28 18:58:00,995 INFO sqlalchemy.engine.base.Engine SELECT sql FROM  (SELECT * FROM sqlite_master UNION ALL   SELECT * FROM sqlite_temp_master) WHERE name = 'measurement' AND type = 'table'\n",
      "2018-11-28 18:58:00,996 INFO sqlalchemy.engine.base.Engine ()\n",
      "2018-11-28 18:58:01,002 INFO sqlalchemy.engine.base.Engine PRAGMA table_info(\"station\")\n",
      "2018-11-28 18:58:01,003 INFO sqlalchemy.engine.base.Engine ()\n",
      "2018-11-28 18:58:01,005 INFO sqlalchemy.engine.base.Engine SELECT sql FROM  (SELECT * FROM sqlite_master UNION ALL   SELECT * FROM sqlite_temp_master) WHERE name = 'station' AND type = 'table'\n",
      "2018-11-28 18:58:01,006 INFO sqlalchemy.engine.base.Engine ()\n",
      "2018-11-28 18:58:01,007 INFO sqlalchemy.engine.base.Engine PRAGMA foreign_key_list(\"station\")\n",
      "2018-11-28 18:58:01,008 INFO sqlalchemy.engine.base.Engine ()\n",
      "2018-11-28 18:58:01,010 INFO sqlalchemy.engine.base.Engine SELECT sql FROM  (SELECT * FROM sqlite_master UNION ALL   SELECT * FROM sqlite_temp_master) WHERE name = 'station' AND type = 'table'\n",
      "2018-11-28 18:58:01,010 INFO sqlalchemy.engine.base.Engine ()\n",
      "2018-11-28 18:58:01,012 INFO sqlalchemy.engine.base.Engine PRAGMA index_list(\"station\")\n",
      "2018-11-28 18:58:01,013 INFO sqlalchemy.engine.base.Engine ()\n",
      "2018-11-28 18:58:01,014 INFO sqlalchemy.engine.base.Engine PRAGMA index_list(\"station\")\n",
      "2018-11-28 18:58:01,015 INFO sqlalchemy.engine.base.Engine ()\n",
      "2018-11-28 18:58:01,017 INFO sqlalchemy.engine.base.Engine SELECT sql FROM  (SELECT * FROM sqlite_master UNION ALL   SELECT * FROM sqlite_temp_master) WHERE name = 'station' AND type = 'table'\n",
      "2018-11-28 18:58:01,018 INFO sqlalchemy.engine.base.Engine ()\n"
     ]
    }
   ],
   "source": [
    "Base.prepare(engine, reflect=True)"
   ]
  },
  {
   "cell_type": "code",
   "execution_count": 5,
   "metadata": {},
   "outputs": [],
   "source": [
    "# Save reference to the table\n",
    "Measurement = Base.classes.measurement\n",
    "Station = Base.classes.station\n",
    "# Create our session (link) from Python to the DB\n",
    "session = Session(engine)"
   ]
  },
  {
   "cell_type": "code",
   "execution_count": 6,
   "metadata": {},
   "outputs": [],
   "source": [
    "# Flask Setup\n",
    "app = Flask(__name__)"
   ]
  },
  {
   "cell_type": "code",
   "execution_count": null,
   "metadata": {},
   "outputs": [],
   "source": []
  }
 ],
 "metadata": {
  "kernelspec": {
   "display_name": "Python 3",
   "language": "python",
   "name": "python3"
  },
  "language_info": {
   "codemirror_mode": {
    "name": "ipython",
    "version": 3
   },
   "file_extension": ".py",
   "mimetype": "text/x-python",
   "name": "python",
   "nbconvert_exporter": "python",
   "pygments_lexer": "ipython3",
   "version": "3.6.5"
  }
 },
 "nbformat": 4,
 "nbformat_minor": 2
}
